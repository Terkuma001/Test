{
 "cells": [
  {
   "cell_type": "code",
   "execution_count": null,
   "id": "a5c7954e",
   "metadata": {},
   "outputs": [],
   "source": [
    "# List of DNA sequences\n",
    "dna_sequences = [\"ATCGAATG\", \"TTAGCCGA\", \"GCTAATCG\"]\n",
    "\n",
    "# Loop through each DNA sequence\n",
    "for sequence in dna_sequences:\n",
    "    print(f\"Original Sequence: {sequence}\")\n",
    "\n",
    "    # Calculate the length of the sequence\n",
    "    sequence_length = len(sequence)\n",
    "    print(f\"Sequence Length: {sequence_length}\")\n",
    "\n",
    "    # Count the occurrences of a specific nucleotide, e.g., 'A'\n",
    "    count_A = sequence.count('A')\n",
    "    print(f\"Count of 'A': {count_A}\")\n",
    "\n",
    "    # Reverse the sequence\n",
    "    reversed_sequence = sequence[::-1]\n",
    "    print(f\"Reversed Sequence: {reversed_sequence}\")\n",
    "\n",
    "    # Add a separator line for better visibility\n",
    "    print(\"-\" * 40)\n",
    "\n",
    "# Outside the loop, after processing all sequences\n",
    "print(\"Loop finished.\")"
   ]
  }
 ],
 "metadata": {
  "kernelspec": {
   "display_name": "Python 3 (ipykernel)",
   "language": "python",
   "name": "python3"
  },
  "language_info": {
   "codemirror_mode": {
    "name": "ipython",
    "version": 3
   },
   "file_extension": ".py",
   "mimetype": "text/x-python",
   "name": "python",
   "nbconvert_exporter": "python",
   "pygments_lexer": "ipython3",
   "version": "3.9.13"
  }
 },
 "nbformat": 4,
 "nbformat_minor": 5
}
